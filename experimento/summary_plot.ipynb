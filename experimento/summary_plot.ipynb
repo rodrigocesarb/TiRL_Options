{
 "cells": [
  {
   "cell_type": "code",
   "execution_count": 1,
   "metadata": {
    "collapsed": false,
    "deletable": true,
    "editable": true
   },
   "outputs": [
    {
     "name": "stderr",
     "output_type": "stream",
     "text": [
      "/home/leno/.conda/envs/leno/lib/python2.7/site-packages/matplotlib/font_manager.py:273: UserWarning: Matplotlib is building the font cache using fc-list. This may take a moment.\n",
      "  warnings.warn('Matplotlib is building the font cache using fc-list. This may take a moment.')\n"
     ]
    }
   ],
   "source": [
    "%matplotlib inline\n",
    "\n",
    "import os\n",
    "import pandas as pd\n",
    "import numpy as np\n",
    "import matplotlib.pyplot as plt\n",
    "import glob\n",
    "import statsmodels.stats.api as sms\n",
    "import scipy as sp\n",
    "import scipy.stats\n",
    "import csv\n",
    "\n",
    "def summarize_experiment(file_name):\n",
    "    #run_dirs = glob.glob(os.path.join(os.getcwd()) + '/*/')\n",
    "    #run_files = [os.path.join(run_dir, 'stats_run.csv') for run_dir in run_dirs]\n",
    "    df = pd.read_csv(os.path.join(os.getcwd(),file_name))\n",
    "    rows = df.values.tolist()\n",
    "    summary = []\n",
    "    for row in rows:\n",
    "        steps_mean, steps_lower, steps_higher = mean_confidence_interval(row[1:])\n",
    "        summary.append([row[0], steps_mean, steps_lower, steps_higher])\n",
    "    header = ['episode', 'steps_mean', 'steps_lower', 'steps_upper']\n",
    "    try:\n",
    "        with open(os.path.join(os.getcwd(), file_name[:-4] +'_summary.csv'), 'w') as csvfile:\n",
    "            writer = csv.writer(csvfile, dialect='excel', quoting=csv.QUOTE_NONNUMERIC)\n",
    "            writer.writerow(header)\n",
    "            for data in summary:\n",
    "                writer.writerow(data)\n",
    "    except IOError as e:\n",
    "        print(\"Can't write stats file - %s \" % str(e))\n",
    "    \n",
    "def mean_confidence_interval(my_list, confidence=0.95):\n",
    "    my_array = 1.0 * np.array(my_list)\n",
    "    array_mean, array_se = np.mean(my_array), scipy.stats.sem(my_array)\n",
    "    margin = array_se * sp.stats.t._ppf((1 + confidence) / 2.,\n",
    "                                        len(my_array) - 1)\n",
    "    return array_mean, array_mean - margin, array_mean + margin\n",
    "\n",
    "def plot_steps(file_name):\n",
    "    df = pd.read_csv(os.path.join(os.getcwd(), file_name))\n",
    "    factors = ['steps']\n",
    "    colors = ['blue']\n",
    "    for factor, color in zip(factors, colors):\n",
    "        plt.figure(figsize=(10, 6), dpi=80)\n",
    "        plt.plot(df['episode'], df[factor + '_mean'],\n",
    "                 label=factor+'_mean', color=color, linewidth=2.0)\n",
    "        plt.plot(df['episode'], df[factor + '_lower'],\n",
    "                 label=factor+'_lower', color=color, linewidth=1.0)\n",
    "        plt.plot(df['episode'], df[factor + '_upper'],\n",
    "                 label=factor+'_upper', color=color, linewidth=1.0)\n",
    "        plt.fill_between(df['episode'], df[factor + '_mean'],\n",
    "                         df[factor + '_lower'],\n",
    "                         facecolor=color, alpha=0.2)\n",
    "        plt.fill_between(df['episode'], df[factor + '_mean'],\n",
    "                         df[factor + '_upper'],\n",
    "                         facecolor=color, alpha=0.2)\n",
    "        plt.ylabel(factor, fontsize=20, fontweight='bold')\n",
    "        plt.xlabel('episodes', fontsize=20, fontweight='bold')\n",
    "        plt.legend(fontsize=14)\n",
    "        plt.savefig(os.path.join(os.getcwd(), file_name[:-4] + '.png'))\n",
    "        plt.show()\n",
    "        \n",
    "def plot_compare(experiment):\n",
    "    df1 = pd.read_csv(os.path.join(os.getcwd(), 'testSemOptionMapa' + str(experiment) + '_experimento_summary.csv'))\n",
    "    df2 = pd.read_csv(os.path.join(os.getcwd(), 'testComOptionMapa' + str(experiment) + '_experimento_summary.csv'))\n",
    "    plt.figure(figsize=(10, 6), dpi=80)\n",
    "    plt.plot(df1['episode'], df1['steps_mean'],\n",
    "             label='Vanilla', color='blue', linewidth=2.0)\n",
    "    plt.plot(df2['episode'], df2['steps_mean'],\n",
    "             label='Options', color='green', linewidth=2.0)\n",
    "    plt.ylabel('steps_mean', fontsize=20, fontweight='bold')\n",
    "    plt.xlabel('episodes', fontsize=20, fontweight='bold')\n",
    "    plt.legend(fontsize=14, loc=4)\n",
    "    plt.savefig(os.path.join(os.getcwd(), 'Mapa' + str(experiment) + '_compare.png'))\n",
    "    plt.show()"
   ]
  },
  {
   "cell_type": "code",
   "execution_count": 2,
   "metadata": {
    "collapsed": false,
    "deletable": true,
    "editable": true
   },
   "outputs": [],
   "source": [
    "\n",
    "file_name = 'testComOptionMapa'\n",
    "for i in range(1, 1):\n",
    "    summarize_experiment(file_name + str(i) + '_experimento_1.csv')\n",
    "    plot_steps(file_name + str(i) + '_experimento_1_summary.csv')\n",
    "file_name = 'testSemOptionMapa'\n",
    "for i in range(1, 1):\n",
    "    summarize_experiment(file_name + str(i) + '_experimento_1.csv')\n",
    "    plot_steps(file_name + str(i) + '_experimento_1_summary.csv')\n",
    "\n",
    "\n",
    "#for i in range(1,6):\n",
    "#    plot_compare(i)"
   ]
  },
  {
   "cell_type": "code",
   "execution_count": null,
   "metadata": {
    "collapsed": true,
    "deletable": true,
    "editable": true
   },
   "outputs": [],
   "source": []
  }
 ],
 "metadata": {
  "anaconda-cloud": {},
  "kernelspec": {
   "display_name": "Python [conda env:leno]",
   "language": "python",
   "name": "conda-env-leno-py"
  },
  "language_info": {
   "codemirror_mode": {
    "name": "ipython",
    "version": 2
   },
   "file_extension": ".py",
   "mimetype": "text/x-python",
   "name": "python",
   "nbconvert_exporter": "python",
   "pygments_lexer": "ipython2",
   "version": "2.7.12"
  }
 },
 "nbformat": 4,
 "nbformat_minor": 0
}
